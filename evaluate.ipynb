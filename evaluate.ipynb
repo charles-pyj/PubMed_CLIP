{
 "cells": [
  {
   "cell_type": "code",
   "execution_count": 1,
   "metadata": {},
   "outputs": [
    {
     "name": "stderr",
     "output_type": "stream",
     "text": [
      "/home/panyijun/miniconda3/envs/figureClass/lib/python3.9/site-packages/tqdm/auto.py:21: TqdmWarning: IProgress not found. Please update jupyter and ipywidgets. See https://ipywidgets.readthedocs.io/en/stable/user_install.html\n",
      "  from .autonotebook import tqdm as notebook_tqdm\n"
     ]
    },
    {
     "name": "stdout",
     "output_type": "stream",
     "text": [
      "cuda\n"
     ]
    }
   ],
   "source": [
    "import clip\n",
    "import torch\n",
    "from PIL import Image\n",
    "import json\n",
    "import requests\n",
    "import torch.nn.functional as F\n",
    "device='cuda' if torch.cuda.is_available() else 'cpu'\n",
    "print(device)"
   ]
  },
  {
   "cell_type": "code",
   "execution_count": 2,
   "metadata": {},
   "outputs": [
    {
     "name": "stdout",
     "output_type": "stream",
     "text": [
      "['T_destination', '__annotations__', '__call__', '__class__', '__delattr__', '__dict__', '__dir__', '__doc__', '__eq__', '__format__', '__ge__', '__getattr__', '__getattribute__', '__gt__', '__hash__', '__init__', '__init_subclass__', '__le__', '__lt__', '__module__', '__ne__', '__new__', '__reduce__', '__reduce_ex__', '__repr__', '__setattr__', '__setstate__', '__sizeof__', '__str__', '__subclasshook__', '__weakref__', '_apply', '_backward_hooks', '_buffers', '_call_impl', '_forward_hooks', '_forward_pre_hooks', '_get_backward_hooks', '_get_name', '_is_full_backward_hook', '_load_from_state_dict', '_load_state_dict_pre_hooks', '_maybe_warn_non_full_backward_hook', '_modules', '_named_members', '_non_persistent_buffers_set', '_parameters', '_register_load_state_dict_pre_hook', '_register_state_dict_hook', '_replicate_for_data_parallel', '_save_to_state_dict', '_slow_forward', '_state_dict_hooks', '_version', 'add_module', 'apply', 'bfloat16', 'buffers', 'build_attention_mask', 'children', 'context_length', 'cpu', 'cuda', 'double', 'dtype', 'dump_patches', 'encode_image', 'encode_text', 'eval', 'extra_repr', 'float', 'forward', 'get_buffer', 'get_parameter', 'get_submodule', 'half', 'initialize_parameters', 'ln_final', 'load_state_dict', 'logit_scale', 'modules', 'named_buffers', 'named_children', 'named_modules', 'named_parameters', 'parameters', 'positional_embedding', 'register_backward_hook', 'register_buffer', 'register_forward_hook', 'register_forward_pre_hook', 'register_full_backward_hook', 'register_parameter', 'requires_grad_', 'share_memory', 'state_dict', 'text_projection', 'to', 'to_empty', 'token_embedding', 'train', 'training', 'transformer', 'type', 'visual', 'vocab_size', 'xpu', 'zero_grad']\n"
     ]
    }
   ],
   "source": [
    "model, preprocess = clip.load(\"RN50\",device,jit=False)\n",
    "print(dir(model))"
   ]
  },
  {
   "cell_type": "code",
   "execution_count": 3,
   "metadata": {},
   "outputs": [],
   "source": [
    "def read_json(path):\n",
    "    with open(path,'r') as f:\n",
    "        data = json.load(f)\n",
    "    return data\n",
    "def get_image_url(url):\n",
    "    responseImg = requests.get(url)\n",
    "    if responseImg.status_code == 200:\n",
    "        #print(\"Success!\")\n",
    "        image_data = responseImg.content\n",
    "        with open(f'./tmp.jpg', 'wb') as file:\n",
    "            file.write(image_data)\n",
    "            return True\n",
    "    return False\n",
    "def get_visual_embed(model,path):\n",
    "    image = Image.open(path)\n",
    "    return model.visual(torch.stack([preprocess(image).to(device)]))\n",
    "def get_text_embed(model,string):\n",
    "    tokens = clip.tokenize([string[:77]],context_length=77).to(device)\n",
    "    return model.encode_text(tokens).to(device)"
   ]
  },
  {
   "cell_type": "code",
   "execution_count": 13,
   "metadata": {},
   "outputs": [],
   "source": [
    "img_paths = read_json(\"/nfs/turbo/umms-drjieliu/proj/medlineKG/data/figure_json_by_article/pmcimage_paths.json\")[:100]\n",
    "captions = read_json(\"/nfs/turbo/umms-drjieliu/proj/medlineKG/data/figure_json_by_article/pmcimage_captions.json\")[:100]\n",
    "roco_imgs = read_json(\"/home/panyijun/PubMed_CLIP/roco_img_paths.json\")\n",
    "roco_captions = read_json(\"/home/panyijun/PubMed_CLIP/roco_captions.json\")\n"
   ]
  },
  {
   "cell_type": "code",
   "execution_count": 5,
   "metadata": {},
   "outputs": [
    {
     "data": {
      "text/plain": [
       "<All keys matched successfully>"
      ]
     },
     "execution_count": 5,
     "metadata": {},
     "output_type": "execute_result"
    }
   ],
   "source": [
    "checkpoint = torch.load(\"./PubMedCLIP_RN50.pth\")\n",
    "model.load_state_dict(checkpoint['state_dict'])"
   ]
  },
  {
   "cell_type": "code",
   "execution_count": 14,
   "metadata": {},
   "outputs": [],
   "source": [
    "def get_similarity(model,url,caption):\n",
    "    if get_image_url(url):\n",
    "        print(\"Loaded successfully\")\n",
    "    visual = get_visual_embed(model,\"./tmp.jpg\")\n",
    "    text_embed = get_text_embed(model,caption)\n",
    "    #print(visual.shape)\n",
    "    #print(text_embed.shape)\n",
    "    print(F.cosine_similarity(visual,text_embed,dim=1))\n",
    "\n",
    "def get_similarity_local(model,path,caption):\n",
    "    visual = get_visual_embed(model,path)\n",
    "    text_embed = get_text_embed(model,caption)\n",
    "    #print(visual.shape)\n",
    "    #print(text_embed.shape)\n",
    "    print(F.cosine_similarity(visual,text_embed,dim=1))"
   ]
  },
  {
   "cell_type": "code",
   "execution_count": 17,
   "metadata": {},
   "outputs": [
    {
     "name": "stdout",
     "output_type": "stream",
     "text": [
      "tensor([0.2175], device='cuda:0', dtype=torch.float16, grad_fn=<DivBackward0>)\n",
      "tensor([0.1290], device='cuda:0', dtype=torch.float16, grad_fn=<DivBackward0>)\n",
      "tensor([0.0888], device='cuda:0', dtype=torch.float16, grad_fn=<DivBackward0>)\n",
      "tensor([0.0983], device='cuda:0', dtype=torch.float16, grad_fn=<DivBackward0>)\n",
      "tensor([0.1884], device='cuda:0', dtype=torch.float16, grad_fn=<DivBackward0>)\n",
      "tensor([0.2184], device='cuda:0', dtype=torch.float16, grad_fn=<DivBackward0>)\n",
      "tensor([0.1339], device='cuda:0', dtype=torch.float16, grad_fn=<DivBackward0>)\n",
      "tensor([0.1267], device='cuda:0', dtype=torch.float16, grad_fn=<DivBackward0>)\n"
     ]
    }
   ],
   "source": [
    "for i in range(8):\n",
    "    get_similarity_local(model,roco_imgs[0],roco_captions[i])\n"
   ]
  },
  {
   "cell_type": "code",
   "execution_count": 8,
   "metadata": {},
   "outputs": [],
   "source": [
    "model_trained, preprocess = clip.load(\"RN50\",device,jit=False)"
   ]
  },
  {
   "cell_type": "code",
   "execution_count": 10,
   "metadata": {},
   "outputs": [
    {
     "name": "stdout",
     "output_type": "stream",
     "text": [
      "/home/panyijun\n"
     ]
    },
    {
     "data": {
      "text/plain": [
       "<All keys matched successfully>"
      ]
     },
     "execution_count": 10,
     "metadata": {},
     "output_type": "execute_result"
    }
   ],
   "source": [
    "!pwd\n",
    "checkpoint_trained = torch.load(\"./PubMed_CLIP/checkpoint_test.pth\")\n",
    "model_trained.load_state_dict(checkpoint_trained.state_dict())"
   ]
  },
  {
   "cell_type": "code",
   "execution_count": 11,
   "metadata": {},
   "outputs": [
    {
     "name": "stdout",
     "output_type": "stream",
     "text": [
      "Loaded successfully\n",
      "tensor([0.2445], device='cuda:0', dtype=torch.float16, grad_fn=<DivBackward0>)\n",
      "Loaded successfully\n",
      "tensor([0.2321], device='cuda:0', dtype=torch.float16, grad_fn=<DivBackward0>)\n",
      "Loaded successfully\n",
      "tensor([0.2455], device='cuda:0', dtype=torch.float16, grad_fn=<DivBackward0>)\n",
      "Loaded successfully\n",
      "tensor([0.2258], device='cuda:0', dtype=torch.float16, grad_fn=<DivBackward0>)\n",
      "Loaded successfully\n",
      "tensor([0.1888], device='cuda:0', dtype=torch.float16, grad_fn=<DivBackward0>)\n",
      "Loaded successfully\n",
      "tensor([0.1584], device='cuda:0', dtype=torch.float16, grad_fn=<DivBackward0>)\n",
      "Loaded successfully\n",
      "tensor([0.1326], device='cuda:0', dtype=torch.float16, grad_fn=<DivBackward0>)\n",
      "Loaded successfully\n",
      "tensor([0.1740], device='cuda:0', dtype=torch.float16, grad_fn=<DivBackward0>)\n"
     ]
    }
   ],
   "source": [
    "for i in range(8):\n",
    "    get_similarity(model_trained,img_paths[0],captions[i])"
   ]
  }
 ],
 "metadata": {
  "kernelspec": {
   "display_name": "figureClass",
   "language": "python",
   "name": "python3"
  },
  "language_info": {
   "codemirror_mode": {
    "name": "ipython",
    "version": 3
   },
   "file_extension": ".py",
   "mimetype": "text/x-python",
   "name": "python",
   "nbconvert_exporter": "python",
   "pygments_lexer": "ipython3",
   "version": "3.9.19"
  }
 },
 "nbformat": 4,
 "nbformat_minor": 2
}
